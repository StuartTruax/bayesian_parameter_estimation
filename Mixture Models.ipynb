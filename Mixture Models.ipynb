{
 "cells": [
  {
   "cell_type": "markdown",
   "metadata": {},
   "source": [
    "# MCMC: Mixture Models\n",
    "\n",
    "Main References:\n",
    " - [1] https://en.wikipedia.org/wiki/Mixture_model\n",
    " - [2] https://docs.pymc.io/notebooks/gaussian_mixture_model.html\n",
    " - [3] https://docs.pymc.io/notebooks/gaussian_mixture_model.html\n",
    " \n",
    "Mixture models are weighted combinations or probrability distributions. Mixture models are useful when sample data doesn't seem to be associated with any one standard distribution. Examples include highly bi-modal sample distributions. A simple expression for such a model would be:\n",
    "\n",
    "$$ p(x) = \\sum^{K}_{i=1} \\phi_{i} F(x|\\theta_{z_i})$$\n",
    "\n",
    "Mathematically, a basic parametric mixture model can be described as follows:\n",
    "\n",
    "$$\n",
    "\\begin{array}{lcl}\n",
    "K &=& \\text{number of mixture components} \\\\\n",
    "N &=& \\text{number of observations} \\\\\n",
    "\\theta_{i=1 \\dots K} &=& \\text{parameter of distribution of observation associated with component } i \\\\\n",
    "\\phi_{i=1 \\dots K} &=& \\text{mixture weight, i.e., prior probability of a particular component } i \\\\\n",
    "\\boldsymbol\\phi &=& K\\text{-dimensional vector composed of all the individual } \\phi_{1 \\dots K} \\text{; must sum to 1 (also called the probability vector)} \\\\\n",
    "z_{i=1 \\dots N} &=& \\text{component of observation } i \\\\\n",
    "x_{i=1 \\dots N} &=& \\text{observation } i \\\\\n",
    "F(x|\\theta) &=& \\text{probability distribution of an observation, parametrized on } \\theta \\\\\n",
    "z_{i=1 \\dots N} &\\sim& \\operatorname{Categorical}(\\boldsymbol\\phi) \\\\\n",
    "x_{i=1 \\dots N}|z_{i=1 \\dots N} &\\sim& F(\\theta_{z_i})\n",
    "\\end{array}\n",
    "$$\n",
    "\n",
    "In a Bayesian setting, all parameters are associated with random variables, as follows:\n",
    "\n",
    " \n",
    "\\begin{array}{lcl}\n",
    "K,N &=& \\text{as above} \\\\\n",
    "\\theta_{i=1 \\dots K}, \\phi_{i=1 \\dots K}, \\boldsymbol\\phi &=& \\text{as above} \\\\\n",
    "z_{i=1 \\dots N}, x_{i=1 \\dots N}, F(x|\\theta) &=& \\text{as above} \\\\\n",
    "\\alpha &=& \\text{shared hyperparameter for component parameters} \\\\\n",
    "\\beta &=& \\text{shared hyperparameter for mixture weights} \\\\\n",
    "H(\\theta|\\alpha) &=& \\text{prior probability distribution of component parameters, parametrized on } \\alpha \\\\\n",
    "\\theta_{i=1 \\dots K} &\\sim& H(\\theta|\\alpha) \\\\\n",
    "\\boldsymbol\\phi &\\sim& \\operatorname{Symmetric-Dirichlet}_K(\\beta) \\\\\n",
    "z_{i=1 \\dots N}|\\boldsymbol\\phi &\\sim& \\operatorname{Categorical}(\\boldsymbol\\phi) \\\\\n",
    "x_{i=1 \\dots N}|z_{i=1 \\dots N},\\theta_{i=1 \\dots K} &\\sim& F(\\theta_{z_i})\n",
    "\\end{array}\n",
    "\n",
    "The Bayesian problem of parameter estimation can be stated as the posterior distribution:\n",
    "\n",
    "$$ p(\\boldsymbol \\theta |\\boldsymbol x)  = \\sum^{K}_{i=1} \\phi_{i} F(x |\\theta_{z_i}) p(\\theta_{z_i}) $$"
   ]
  },
  {
   "cell_type": "code",
   "execution_count": 1,
   "metadata": {},
   "outputs": [],
   "source": [
    "# pandas and numpy for data manipulation\n",
    "import pandas as pd\n",
    "import numpy as np\n",
    "\n",
    "# scipy for algorithms\n",
    "import scipy\n",
    "from scipy import stats\n",
    "\n",
    "# pymc3 for Bayesian Inference, pymc built on t\n",
    "import pymc3 as pm\n",
    "import theano.tensor as tt\n",
    "import scipy\n",
    "from scipy import optimize\n",
    "\n",
    "# matplotlib for plotting\n",
    "import matplotlib.pyplot as plt\n",
    "%matplotlib inline\n",
    "from IPython.core.pylabtools import figsize\n",
    "import matplotlib\n",
    "\n",
    "import json"
   ]
  },
  {
   "cell_type": "markdown",
   "metadata": {},
   "source": [
    "# Creating the sample data\n",
    "\n",
    "For this problem, the response variable $y$ is from a population which is a combination of subpopulations (i.e. the mixture). It is not known which sub-population (or __component__) to attribute the a given sample of the response variable to. For sample $i$, the component population to which the sample belongs is encoded by the __latent__ variable $z_{i}$.\n",
    "\n",
    "Typically the latent variable $z_{i}$ is a categorical variable on the probability vector $\\mathbf{\\phi}$. That is:\n",
    "\n",
    "$$p(z_{i} = k) = \\phi_{k} $$\n",
    "\n",
    "For the example problem, the full is model is:\n",
    "\n",
    "$$ y \\sim N(\\mu_{z_{i}}, \\sigma) $$\n",
    "$$ z_{i} \\sim Categorical(\\boldsymbol \\phi)$$\n",
    "$$ \\mu_{1} \\sim N(-10, 5) $$\n",
    "$$ \\mu_{2} \\sim N(10, 5) $$\n",
    "$$ \\boldsymbol \\phi \\sim \\operatorname{Symmetric-Dirichlet}_K(\\beta) $$\n",
    "\n",
    "where:\n",
    "\n",
    "$$ $$\n"
   ]
  },
  {
   "cell_type": "markdown",
   "metadata": {},
   "source": [
    "### Sample Data Generation"
   ]
  },
  {
   "cell_type": "code",
   "execution_count": 2,
   "metadata": {},
   "outputs": [
    {
     "name": "stdout",
     "output_type": "stream",
     "text": [
      "[ -1.34164101  16.66772691  16.33059265   7.4706173   12.42156077\n",
      "  12.89570239   9.09208714  17.05102316 -14.80377306  11.88463487\n",
      "   2.18251655   7.1665119    8.33471299  10.23682409  12.83220019\n",
      "  10.74632546  -1.06257977 -12.84758632   4.57099702  -6.80132003\n",
      "  -5.02144326   0.3339761    9.30263019 -10.9532799    8.87030172\n",
      " -18.27285383  -8.44318248 -13.88010233  -4.40144019 -12.2896121\n",
      "  12.12696699   9.86014408   8.17832844 -13.39388695 -13.37510916\n",
      "   9.33607872  10.85500219 -18.62835676   8.96789529  12.44213234\n",
      " -14.95451641  -4.91059975  14.62625376   5.47606921  -0.78154235\n",
      "  17.62753619 -10.35278615  13.02079854  14.53759809   7.07088563\n",
      "  14.86799356  11.03641386  13.031945    10.0088042    8.79463205\n",
      "  -9.73327546  14.18859883   2.54944294  -6.97713862   1.28470885\n",
      "  16.4568896   16.50348136   5.17968321   0.0461059    7.07092409\n",
      "  11.49386019   9.7712595   10.24949207  -8.19786366  12.0407406\n",
      "  10.96430432   7.8956759   16.7197721  -14.09110481   6.69447884\n",
      "   4.09904492  15.9866099   -0.58323071  13.5711191   21.42166677\n",
      "   5.61318339 -18.10543748 -17.78011839 -10.27232422 -19.05639395\n",
      "   6.84412391  -9.02250332   7.64197833  13.25604673 -15.65248225\n",
      " -13.88673328  -4.42030773  12.12206229  15.44654523 -12.7482795\n",
      "  12.6056287    5.42622335  -5.70881107   0.49707869   4.31210401]\n",
      "[0.38788988 0.61211012]\n"
     ]
    }
   ],
   "source": [
    "beta = 1.0\n",
    "K = 2\n",
    "mu_1_set = -10.0\n",
    "mu_2_set = 10.0\n",
    "sigma = 5\n",
    "\n",
    "N_SAMPLES = 100\n",
    "\n",
    "\n",
    "y = np.array([])\n",
    "np.random.seed(0)\n",
    "\n",
    "phi = np.random.dirichlet([beta,beta])\n",
    "\n",
    "for i in range(N_SAMPLES):\n",
    "    \n",
    "    #the latent variable z is implicit in the function call to np.random.choice\n",
    "    mu_set = np.random.choice([mu_1_set,mu_2_set],None, True, phi)\n",
    "    y = np.append(y,np.random.normal(mu_set,sigma))\n",
    "    \n",
    "print(y)\n",
    "print(phi)\n",
    "\n",
    "\n",
    "\n",
    "\n"
   ]
  },
  {
   "cell_type": "markdown",
   "metadata": {},
   "source": [
    "### Sample Data Histogram"
   ]
  },
  {
   "cell_type": "code",
   "execution_count": 3,
   "metadata": {},
   "outputs": [
    {
     "data": {
      "image/png": "[encoded data removed]",
      "text/plain": [
       "<Figure size 432x288 with 1 Axes>"
      ]
     },
     "metadata": {
      "needs_background": "light"
     },
     "output_type": "display_data"
    }
   ],
   "source": [
    "plt.hist(y)\n",
    "plt.ylabel('$p(y)$')\n",
    "plt.xlabel('$y$')\n",
    "plt.show()"
   ]
  },
  {
   "cell_type": "markdown",
   "metadata": {},
   "source": []
  },
  {
   "cell_type": "markdown",
   "metadata": {},
   "source": [
    "# MCMC"
   ]
  },
  {
   "cell_type": "code",
   "execution_count": 4,
   "metadata": {},
   "outputs": [],
   "source": [
    "observations = y\n",
    "k=2"
   ]
  },
  {
   "cell_type": "code",
   "execution_count": 42,
   "metadata": {},
   "outputs": [],
   "source": [
    "MCMC_model = pm.Model()\n",
    "with MCMC_model:\n",
    "    #Parameters\n",
    "    phi = pm.Dirichlet('phi',a=np.array([1., 1.]), shape=k)\n",
    "    means = pm.Normal('means', mu=[-1,1], sigma=5, shape=k)\n",
    "    \n",
    "    sd = pm.Uniform('sd', lower=0, upper=20)\n",
    "    \n",
    "    z = pm.Categorical('z',p=phi, shape=N_SAMPLES)\n",
    "    \n",
    "    obs = pm.Normal('obs', \n",
    "                    mu=means[z], \n",
    "                    sigma=sd, \n",
    "                    observed=y)\n",
    "    "
   ]
  },
  {
   "cell_type": "code",
   "execution_count": 43,
   "metadata": {},
   "outputs": [
    {
     "name": "stderr",
     "output_type": "stream",
     "text": [
      "/Users/stuarttruax/anaconda2/envs/py36/lib/python3.6/site-packages/ipykernel_launcher.py:3: DeprecationWarning: ElemwiseCategorical is deprecated, switch to CategoricalGibbsMetropolis.\n",
      "  This is separate from the ipykernel package so we can avoid doing imports until\n",
      "Only 100 samples in chain.\n",
      "Multiprocess sampling (4 chains in 4 jobs)\n",
      "CompoundStep\n",
      ">CompoundStep\n",
      ">>Metropolis: [means]\n",
      ">>Metropolis: [phi]\n",
      ">ElemwiseCategorical: [z]\n",
      ">NUTS: [sd]\n",
      "Sampling 4 chains: 100%|██████████| 2400/2400 [00:02<00:00, 975.37draws/s] \n",
      "There were 23 divergences after tuning. Increase `target_accept` or reparameterize.\n",
      "The acceptance probability does not match the target. It is 0.10736146504189661, but should be close to 0.8. Try to increase the number of tuning steps.\n",
      "The gelman-rubin statistic is larger than 1.4 for some parameters. The sampler did not converge.\n",
      "The number of effective samples is smaller than 10% for some parameters.\n"
     ]
    }
   ],
   "source": [
    "with MCMC_model:  \n",
    "    step1 = pm.Metropolis(vars=[phi, means])\n",
    "    step2 = pm.ElemwiseCategorical(vars=[z], values=[0, 1])\n",
    "    model_trace = pm.sample(N_SAMPLES, step=[step1, step2])\n",
    "    "
   ]
  },
  {
   "cell_type": "markdown",
   "metadata": {},
   "source": [
    "# Posterior Distributions"
   ]
  },
  {
   "cell_type": "code",
   "execution_count": 49,
   "metadata": {},
   "outputs": [
    {
     "name": "stdout",
     "output_type": "stream",
     "text": [
      "2.915098503560765\n",
      "-4.2965558978656535\n",
      "[[[0 1 1 ... 0 1 1]]\n",
      "\n",
      " [[1 1 1 ... 0 1 1]]\n",
      "\n",
      " [[1 1 1 ... 0 0 1]]\n",
      "\n",
      " ...\n",
      "\n",
      " [[0 0 0 ... 1 1 0]]\n",
      "\n",
      " [[1 0 0 ... 1 0 0]]\n",
      "\n",
      " [[1 0 0 ... 1 1 0]]]\n",
      "[0 1 1 0 1 0 0 1 1 0 0 0 0 0 1 0 1 1 1 1 1 1 0 1 0 1 1 1 0 0 0 0 1 1 0 0 0\n",
      " 0 0 1 0 0 0 1 1 1 0 1 0 0 0 1 1 0 1 1 0 0 1 0 1 0 1 1 0 1 1 0 0 1 0 1 1 1\n",
      " 1 1 0 1 0 0 1 1 0 0 1 1 0 1 0 0 0 0 1 0 1 1 1 1 1 1 1 0 1 1 1 1 1 0 0 0 0\n",
      " 0 0 0 0 0 0 1 0 0 1 0 0 0 0 1 0 1 1 0 0 1 0 0 1 0 0 0 0 0 1 1 1 1 1 1 1 1\n",
      " 1 0 0 1 1 0 1 1 1 1 1 1 1 1 1 1 1 1 0 1 1 1 1 1 0 1 1 1 0 0 0 0 0 1 0 0 0\n",
      " 0 0 1 1 0 1 1 0 1 0 1 0 1 1 1 0 0 1 0 0 0 0 0 1 1 1 1 0 1 1 0 0 1 0 1 0 1\n",
      " 1 0 0 0 0 0 0 0 1 0 0 1 0 1 0 0 0 0 0 1 0 0 1 0 0 1 0 1 1 1 0 1 1 1 1 1 1\n",
      " 0 0 1 1 0 1 1 0 1 0 0 0 1 1 0 0 0 1 0 1 1 0 0 0 1 0 0 0 0 1 0 1 1 0 0 1 0\n",
      " 1 0 1 1]\n",
      "[1 1 1 1 1 1 0 1 1 1 1 1 1 1 1 1 1 1 1 1 1 1 0 1 1 1 1 1 1 0 1 1 1 1 1 1 1\n",
      " 1 0 1 1 1 1 1 1 1 1 1 1 1 1 1 1 1 1 1 1 1 1 1 1 1 1 1 1 1 1 1 1 1 1 1 1 1\n",
      " 1 1 1 1 1 1 1 1 1 1 1 1 1 1 1 1 1 1 0 1 1 1 1 1 1 1 1 1 1 1 1 1 1 0 1 1 1\n",
      " 1 1 1 0 1 1 1 1 1 1 1 1 1 1 1 1 1 1 1 1 1 1 1 1 0 1 1 1 1 1 1 1 1 1 1 1 1\n",
      " 1 1 1 1 1 1 1 1 1 1 1 1 1 1 1 1 1 1 1 1 1 1 1 1 1 1 1 1 1 1 1 1 1 0 1 1 1\n",
      " 1 1 1 1 1 1 1 1 1 1 1 1 0 0 1 0 0 0 0 0 0 1 0 0 0 1 0 0 0 0 1 0 0 0 0 1 0\n",
      " 0 0 0 0 1 0 0 0 0 0 0 0 0 0 0 0 0 0 0 0 0 0 0 0 0 0 0 0 0 0 0 0 0 0 0 0 0\n",
      " 0 0 0 0 0 0 0 0 0 0 0 0 0 0 0 0 0 0 0 1 0 0 0 0 0 0 0 0 0 1 0 1 0 0 0 1 0\n",
      " 0 1 0 1]\n"
     ]
    }
   ],
   "source": [
    "means_samples= model_trace[\"means\"][N_SAMPLES:, None]\n",
    "phi_samples= model_trace[\"phi\"][N_SAMPLES:, None]\n",
    "z_samples = model_trace[\"z\"][N_SAMPLES:, None]\n",
    "z_0_samples = model_trace[\"z\"][N_SAMPLES:, 0]\n",
    "z_10_samples = model_trace[\"z\"][N_SAMPLES:, 10]\n",
    "\n",
    "#print(means_samples.shape)\n",
    "#print(means_samples)\n",
    "\n",
    "mu_2_samples = model_trace[\"means\"][N_SAMPLES:, 0]\n",
    "mu_1_samples = model_trace[\"means\"][N_SAMPLES:, 1]\n",
    "\n",
    "print(mu_1_samples.mean())\n",
    "print(mu_2_samples.mean())\n",
    "\n",
    "print(z_samples)\n",
    "print(z_0_samples)\n",
    "print(z_10_samples)\n"
   ]
  },
  {
   "cell_type": "code",
   "execution_count": 56,
   "metadata": {},
   "outputs": [
    {
     "data": {
      "text/plain": [
       "Text(0, 0.5, 'Count')"
      ]
     },
     "execution_count": 56,
     "metadata": {},
     "output_type": "execute_result"
    },
    {
     "data": {
      "image/png": "[encoded data removed]",
      "text/plain": [
       "<Figure size 1440x720 with 4 Axes>"
      ]
     },
     "metadata": {
      "needs_background": "light"
     },
     "output_type": "display_data"
    }
   ],
   "source": [
    "figsize(20, 10)\n",
    "\n",
    "plt.subplot(411)\n",
    "plt.title(r\"\"\"Distribution of $\\mu_1$ with %d samples ($\\mu$: %f , compare to True: %f)\"\"\" % (N_SAMPLES,mu_1_samples.mean(), mu_1_set))\n",
    "\n",
    "plt.hist(mu_1_samples, histtype='stepfilled', \n",
    "         color = 'darkred', bins=30, alpha=0.8, density=True);\n",
    "plt.ylabel('Probability Density')\n",
    "\n",
    "\n",
    "plt.subplot(412)\n",
    "plt.title(r\"\"\"Distribution of $\\mu_2$ with %d samples ($\\mu$: %f , compare to True: %f)\"\"\" % (N_SAMPLES,mu_2_samples.mean(),mu_2_set))\n",
    "\n",
    "plt.hist(mu_2_samples, histtype='stepfilled', \n",
    "         color = 'red', bins=30, alpha=0.8, density=True);\n",
    "plt.ylabel('Probability Density')\n",
    "\n",
    "plt.subplot(413)\n",
    "plt.title(r\"\"\"Historgram Distribution of $z_0$ samples\"\"\" )\n",
    "\n",
    "plt.hist(z_0_samples, histtype='stepfilled', \n",
    "         color = 'black', bins=30, alpha=0.8, density=True);\n",
    "plt.ylabel('Count')\n",
    "\n",
    "plt.subplot(414)\n",
    "plt.title(r\"\"\"Historgram Distribution of $z_10$ samples\"\"\" )\n",
    "\n",
    "plt.hist(z_10_samples, histtype='stepfilled', \n",
    "         color = 'black', bins=30, alpha=0.8, density=True);\n",
    "plt.ylabel('Count')\n"
   ]
  },
  {
   "cell_type": "code",
   "execution_count": null,
   "metadata": {},
   "outputs": [],
   "source": []
  }
 ],
 "metadata": {
  "kernelspec": {
   "display_name": "Python [conda env:anaconda2-py36] *",
   "language": "python",
   "name": "conda-env-anaconda2-py36-py"
  },
  "language_info": {
   "codemirror_mode": {
    "name": "ipython",
    "version": 3
   },
   "file_extension": ".py",
   "mimetype": "text/x-python",
   "name": "python",
   "nbconvert_exporter": "python",
   "pygments_lexer": "ipython3",
   "version": "3.6.9"
  }
 },
 "nbformat": 4,
 "nbformat_minor": 2
}
