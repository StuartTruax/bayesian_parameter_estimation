{
 "cells": [
  {
   "cell_type": "markdown",
   "metadata": {},
   "source": [
    "# MCMC: Posterior Predictive Distributions\n",
    "\n",
    "Main References:\n",
    " - [1] https://en.wikipedia.org/wiki/Posterior_predictive_distribution\n",
    " - [2] https://docs.pymc.io/notebooks/GLM-poisson-regression.html\n",
    " - [3] https://docs.pymc.io/notebooks/posterior_predictive.html\n",
    " - [4] https://stats.stackexchange.com/questions/169223/how-to-generate-the-posterior-predictive-distribution-for-hierarchal-model-in-py\n",
    "\n",
    "Answering the question:\n",
    "\n",
    "For observations $\\mathbf{X} = \\{x_1, \\dots, x_N\\}$ from a distribution parameterized by $\\theta \\in \\Theta$ and unobserved $\\tilde{x}$, what is :\n",
    "\n",
    "$$ p(\\tilde{x}|\\mathbf{X}) = \\int_{\\Theta} p(\\tilde{x}|\\theta,\\mathbf{X}) \\, p(\\theta|\\mathbf{X}) \\operatorname{d}\\!\\theta $$\n",
    "\n",
    "That is, integrating over the distribution of parameter values given by the MCMC estimation."
   ]
  },
  {
   "cell_type": "code",
   "execution_count": 1,
   "metadata": {},
   "outputs": [],
   "source": [
    "# pandas and numpy for data manipulation\n",
    "import pandas as pd\n",
    "import numpy as np\n",
    "\n",
    "# scipy for algorithms\n",
    "import scipy\n",
    "from scipy import stats\n",
    "\n",
    "# pymc3 for Bayesian Inference, pymc built on t\n",
    "import pymc3 as pm\n",
    "import theano.tensor as tt\n",
    "import scipy\n",
    "from scipy import optimize\n",
    "\n",
    "# matplotlib for plotting\n",
    "import matplotlib.pyplot as plt\n",
    "%matplotlib inline\n",
    "from IPython.core.pylabtools import figsize\n",
    "import matplotlib\n",
    "\n",
    "import json"
   ]
  },
  {
   "cell_type": "markdown",
   "metadata": {},
   "source": [
    "# Creating the sample data\n",
    "\n",
    "For this problem, the response variable $y$ is some __count__ given a a factor variable $x$. As such, a Poisson model is chosen for this type of problem. Consequently, posterior predictive distribution will be performed on an underlying Poisson regression.\n",
    "\n",
    "An example of such a regression is the German Bad Health dataset in `R`, in which $y = \\text{number of doctor visits}$. The full is model is:\n",
    "\n",
    "$$ y \\sim Pois(\\lambda) $$\n",
    "$$ log(\\lambda) = \\beta_{0}+\\beta_{age}x_{age}+\\beta_{\\text{bad health}}x_{\\text{bad health}}+\\beta_{mixing}x_{\\text{bad health}}x_{age}$$\n",
    "\n",
    "where:\n",
    "\n",
    "$$ \\beta_{0} \\sim N(0,10^{-6}) $$\n",
    "$$ \\beta_{age} \\sim N(0,10^{-4}) $$\n",
    "$$ \\beta_{\\text{bad health}} \\sim N(0,10^{-4}) $$\n",
    "$$ \\beta_{\\text{mixing}} \\sim N(0,10^{-4}) $$\n",
    "\n",
    "The more general formulation of this problem type would be:\n",
    "\n",
    "$$ y \\sim Pois(\\lambda) $$\n",
    "$$ log(\\lambda) = \\beta_{0}+ \\text{(multivariate nonlinear regression expansion)} $$"
   ]
  },
  {
   "cell_type": "markdown",
   "metadata": {},
   "source": [
    "### Sample Data\n",
    "\n",
    "Two factor linear model for $\\lambda$. \n",
    " - $x_{1} \\sim Bin(1,0.5)$,\n",
    " - $x_{2} \\sim U([0,100])$."
   ]
  },
  {
   "cell_type": "code",
   "execution_count": 2,
   "metadata": {},
   "outputs": [],
   "source": [
    "beta = 1\n",
    "alpha = 0\n",
    "\n",
    "sigma = 0.1\n",
    "mu = 0\n",
    "N_SAMPLES = 500\n",
    "\n",
    "np.random.seed(0)\n",
    "\n",
    "betas = [0,1,10**-2]\n",
    "\n",
    "x1 =  np.random.binomial(1, 0.5, size=(N_SAMPLES,1))\n",
    "x2 = np.random.uniform(0,100, size=(N_SAMPLES,1))"
   ]
  },
  {
   "cell_type": "code",
   "execution_count": 3,
   "metadata": {},
   "outputs": [],
   "source": [
    "log_lambdas = betas[0]+x1*betas[1]+x2*betas[2]\n",
    "lambdas = np.exp(log_lambdas)\n",
    "\n",
    "y = np.random.poisson(lambdas) "
   ]
  },
  {
   "cell_type": "markdown",
   "metadata": {},
   "source": [
    "### Sample Data Plots"
   ]
  },
  {
   "cell_type": "code",
   "execution_count": 4,
   "metadata": {},
   "outputs": [
    {
     "data": {
      "image/png": "[encoded data removed]",
      "text/plain": [
       "<Figure size 432x288 with 1 Axes>"
      ]
     },
     "metadata": {
      "needs_background": "light"
     },
     "output_type": "display_data"
    }
   ],
   "source": [
    "plt.plot(x1,y,'.')\n",
    "plt.ylabel('$y$')\n",
    "plt.xlabel('$x_{1} \\sim Bin(1,0.5$)')\n",
    "plt.show()"
   ]
  },
  {
   "cell_type": "markdown",
   "metadata": {},
   "source": [
    " __NB__: The larger the choice of $\\beta_{1}$, the more $x_{1}$ will classify the data. A little overlap is left by this choice of $\\beta_{1}$ so that the posterior predictive probability $p$ is less than one. Complete overlap would result in a toss-up of $p \\approx 0.5$"
   ]
  },
  {
   "cell_type": "code",
   "execution_count": 5,
   "metadata": {},
   "outputs": [
    {
     "data": {
      "image/png": "[encoded data removed]",
      "text/plain": [
       "<Figure size 432x288 with 1 Axes>"
      ]
     },
     "metadata": {
      "needs_background": "light"
     },
     "output_type": "display_data"
    }
   ],
   "source": [
    "plt.plot(x2,y,'.')\n",
    "plt.ylabel('$y$')\n",
    "plt.xlabel('$x_{2} \\sim U([0,100])$')\n",
    "plt.show()"
   ]
  },
  {
   "cell_type": "markdown",
   "metadata": {},
   "source": [
    "$x_2$ predicts some increase in the count response variable."
   ]
  },
  {
   "cell_type": "markdown",
   "metadata": {},
   "source": [
    "# MCMC Poisson Regression"
   ]
  },
  {
   "cell_type": "code",
   "execution_count": 6,
   "metadata": {},
   "outputs": [],
   "source": [
    "observations = y"
   ]
  },
  {
   "cell_type": "code",
   "execution_count": 7,
   "metadata": {},
   "outputs": [
    {
     "name": "stderr",
     "output_type": "stream",
     "text": [
      "Multiprocess sampling (4 chains in 4 jobs)\n",
      "CompoundStep\n",
      ">Metropolis: [b2]\n",
      ">Metropolis: [b1]\n",
      ">Metropolis: [b0]\n",
      "Sampling 4 chains: 100%|██████████| 4000/4000 [00:00<00:00, 4339.77draws/s]\n",
      "The gelman-rubin statistic is larger than 1.05 for some parameters. This indicates slight problems during sampling.\n",
      "The estimated number of effective samples is smaller than 200 for some parameters.\n"
     ]
    }
   ],
   "source": [
    "with pm.Model() as MCMC_model:\n",
    "    # Create the beta parameters\n",
    "    b0 = pm.Normal('b0', mu=0, sigma=10)\n",
    "    b1 = pm.Normal('b1', mu=0, sigma=10)\n",
    "    b2 = pm.Normal('b2', mu=0, sigma=1)\n",
    "    \n",
    "\n",
    "    # define linear model and exp link function\n",
    "    theta = (b0 + b1 * x1 + b2 * x2)\n",
    "\n",
    "    ## Define Poisson likelihood\n",
    "    obs = pm.Poisson('y', mu=np.exp(theta), observed=observations)\n",
    "    \n",
    "    \n",
    "    # Using Metropolis Hastings Sampling\n",
    "    step = pm.Metropolis()\n",
    "    \n",
    "    # Sample from the posterior using the sampling method\n",
    "    model_trace = pm.sample(N_SAMPLES, step=step);"
   ]
  },
  {
   "cell_type": "markdown",
   "metadata": {},
   "source": [
    "# Posterior Distributions for the Betas"
   ]
  },
  {
   "cell_type": "code",
   "execution_count": 8,
   "metadata": {},
   "outputs": [],
   "source": [
    "b0_samples = model_trace[\"b0\"][N_SAMPLES:, None]\n",
    "b1_samples = model_trace[\"b1\"][N_SAMPLES:, None]\n",
    "b2_samples = model_trace[\"b2\"][N_SAMPLES:, None]"
   ]
  },
  {
   "cell_type": "code",
   "execution_count": 9,
   "metadata": {},
   "outputs": [
    {
     "data": {
      "text/plain": [
       "Text(0, 0.5, 'Probability Density')"
      ]
     },
     "execution_count": 9,
     "metadata": {},
     "output_type": "execute_result"
    },
    {
     "data": {
      "image/png": "[encoded data removed]",
      "text/plain": [
       "<Figure size 1152x720 with 3 Axes>"
      ]
     },
     "metadata": {
      "needs_background": "light"
     },
     "output_type": "display_data"
    }
   ],
   "source": [
    "figsize(16, 10)\n",
    "\n",
    "plt.subplot(311)\n",
    "plt.title(r\"\"\"Distribution of $\\beta_0$ with %d samples ($\\mu$: %f , compare to True: %f)\"\"\" % (N_SAMPLES,b0_samples.mean(), betas[0]))\n",
    "\n",
    "plt.hist(b0_samples, histtype='stepfilled', \n",
    "         color = 'darkred', bins=30, alpha=0.8, density=True);\n",
    "plt.ylabel('Probability Density')\n",
    "\n",
    "\n",
    "plt.subplot(312)\n",
    "plt.title(r\"\"\"Distribution of $\\beta_1$ with %d samples ($\\mu$: %f , compare to True: %f)\"\"\" % (N_SAMPLES,b1_samples.mean(),betas[1]))\n",
    "\n",
    "plt.hist(b1_samples, histtype='stepfilled', \n",
    "         color = 'red', bins=30, alpha=0.8, density=True);\n",
    "plt.ylabel('Probability Density')\n",
    "\n",
    "plt.subplot(313)\n",
    "plt.title(r\"\"\"Distribution of $\\beta_2$ with %d samples ($\\mu$: %f , compare to True: %f)\"\"\" % (N_SAMPLES,b2_samples.mean(),betas[2]))\n",
    "\n",
    "plt.hist(b2_samples, histtype='stepfilled', \n",
    "         color = 'darkblue', bins=30, alpha=0.8, density=True);\n",
    "plt.ylabel('Probability Density')"
   ]
  },
  {
   "cell_type": "markdown",
   "metadata": {},
   "source": [
    "# Posterior Predictive Distributions\n",
    "\n"
   ]
  },
  {
   "cell_type": "markdown",
   "metadata": {},
   "source": [
    "Question: what is $p(y_{2} > y_{1} | \\mathbf{x}_{1} = [0,x_{1}] \\text{ and } \\mathbf{x}_{2} = [1,x_{1}]  )$?\n",
    "\n"
   ]
  },
  {
   "cell_type": "markdown",
   "metadata": {},
   "source": [
    "First generate the posterior predictive distributions by taking the MC distributions of the $\\beta$'s and getting a distribution of $\\lambda$'s. Use two test points in $x$-space to generate these (__shouldn't we integrate over all marginal points as opposed to just having two?__):"
   ]
  },
  {
   "cell_type": "code",
   "execution_count": 10,
   "metadata": {},
   "outputs": [],
   "source": [
    "point_1 = np.array([0,0])\n",
    "point_2 = np.array([1,0])\n",
    "\n",
    "log_lambdas_predictive_1 = b0_samples + point_1[0]*b1_samples + point_1[1]*b2_samples\n",
    "log_lambdas_predictive_2 = b0_samples + point_2[0]*b1_samples + point_2[1]*b2_samples"
   ]
  },
  {
   "cell_type": "markdown",
   "metadata": {},
   "source": [
    "### Density of lambdas:"
   ]
  },
  {
   "cell_type": "code",
   "execution_count": 11,
   "metadata": {},
   "outputs": [
    {
     "data": {
      "text/plain": [
       "Text(0, 0.5, 'Probability Density')"
      ]
     },
     "execution_count": 11,
     "metadata": {},
     "output_type": "execute_result"
    },
    {
     "data": {
      "image/png": "[encoded data removed]",
      "text/plain": [
       "<Figure size 1152x720 with 2 Axes>"
      ]
     },
     "metadata": {
      "needs_background": "light"
     },
     "output_type": "display_data"
    }
   ],
   "source": [
    "figsize(16, 10)\n",
    "\n",
    "plt.subplot(211)\n",
    "plt.title(r\"Distribution of $\\lambda_1$\")\n",
    "\n",
    "plt.hist(log_lambdas_predictive_1, histtype='stepfilled', \n",
    "         color = 'blue', bins=30, alpha=0.8, density=True);\n",
    "plt.ylabel('Probability Density')\n",
    "\n",
    "\n",
    "plt.subplot(212)\n",
    "plt.title(r\"Distribution of $\\lambda_2$\")\n",
    "\n",
    "plt.hist(log_lambdas_predictive_2, histtype='stepfilled', \n",
    "         color = 'red', bins=30, alpha=0.8, density=True);\n",
    "plt.ylabel('Probability Density')"
   ]
  },
  {
   "cell_type": "markdown",
   "metadata": {},
   "source": [
    "### Generation of Posterior Predictive Distributions"
   ]
  },
  {
   "cell_type": "markdown",
   "metadata": {},
   "source": [
    "Using the distribution of parameter (i.e. $\\lambda$) values, draw from $Pois(\\lambda)$ for over that $\\lambda$ distribution. "
   ]
  },
  {
   "cell_type": "code",
   "execution_count": 12,
   "metadata": {},
   "outputs": [],
   "source": [
    "y_1 = np.random.poisson(np.exp(log_lambdas_predictive_1))\n",
    "y_2 = np.random.poisson(np.exp(log_lambdas_predictive_2))"
   ]
  },
  {
   "cell_type": "markdown",
   "metadata": {},
   "source": [
    "###  Posterior Predictive Probabilility"
   ]
  },
  {
   "cell_type": "markdown",
   "metadata": {},
   "source": [
    "Now tht we have draws for $y_1$ and $y_2$, use an indicator function $I(y_2>y_1)$to find the posterior predictive probability. Remeber that the indicator function integrates over the samples, which is the same as doing an elementwise boolean operation as below. "
   ]
  },
  {
   "cell_type": "code",
   "execution_count": 13,
   "metadata": {},
   "outputs": [
    {
     "name": "stdout",
     "output_type": "stream",
     "text": [
      "Posterior probability:  0.7493333333333333\n"
     ]
    }
   ],
   "source": [
    "print(\"Posterior probability: \",np.mean(y_2 > y_1))"
   ]
  },
  {
   "cell_type": "code",
   "execution_count": null,
   "metadata": {},
   "outputs": [],
   "source": []
  },
  {
   "cell_type": "code",
   "execution_count": null,
   "metadata": {},
   "outputs": [],
   "source": []
  }
 ],
 "metadata": {
  "kernelspec": {
   "display_name": "Python [conda env:anaconda2-py36] *",
   "language": "python",
   "name": "conda-env-anaconda2-py36-py"
  },
  "language_info": {
   "codemirror_mode": {
    "name": "ipython",
    "version": 3
   },
   "file_extension": ".py",
   "mimetype": "text/x-python",
   "name": "python",
   "nbconvert_exporter": "python",
   "pygments_lexer": "ipython3",
   "version": "3.6.9"
  }
 },
 "nbformat": 4,
 "nbformat_minor": 2
}
